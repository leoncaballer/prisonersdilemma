{
 "cells": [
  {
   "cell_type": "code",
   "execution_count": null,
   "id": "af6aafa2",
   "metadata": {},
   "outputs": [
    {
     "data": {
      "text/plain": [
       "[Cooperator, Defector, Tit For Tat, Grudger]"
      ]
     },
     "execution_count": 1,
     "metadata": {},
     "output_type": "execute_result"
    }
   ],
   "source": [
    "import os\n",
    "import axelrod as axl\n",
    "os.environ[\"KMP_DUPLICATE_LIB_OK\"] = \"TRUE\"\n",
    "\n",
    "import axelrod as axl\n",
    "first_tournament_participants_ordered_by_reported_rank = [s() for s in axl.axelrod_first_strategies]\n",
    "number_of_strategies = len(first_tournament_participants_ordered_by_reported_rank)\n",
    "for player in first_tournament_participants_ordered_by_reported_rank:\n",
    "    print(player)"
   ]
  },
  {
   "cell_type": "code",
   "execution_count": null,
   "id": "af2a0215",
   "metadata": {},
   "outputs": [],
   "source": []
  }
 ],
 "metadata": {
  "kernelspec": {
   "display_name": "base",
   "language": "python",
   "name": "python3"
  },
  "language_info": {
   "codemirror_mode": {
    "name": "ipython",
    "version": 3
   },
   "file_extension": ".py",
   "mimetype": "text/x-python",
   "name": "python",
   "nbconvert_exporter": "python",
   "pygments_lexer": "ipython3",
   "version": "3.13.5"
  }
 },
 "nbformat": 4,
 "nbformat_minor": 5
}
