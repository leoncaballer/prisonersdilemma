{
 "cells": [
  {
   "cell_type": "code",
   "execution_count": null,
   "id": "33c695ff-70cc-41d1-bed1-064f03b1bcf3",
   "metadata": {},
   "outputs": [
    {
     "name": "stderr",
     "output_type": "stream",
     "text": [
      "Playing matches:   0%|                                                                           | 0/1 [00:18<?, ?it/s]\n",
      "Playing matches:   9%|█████▏                                                    | 2655/29646 [10:01<2:01:14,  3.71it/s]"
     ]
    }
   ],
   "source": [
    "import axelrod as axl\n",
    "players = [s() for s in axl.strategies]\n",
    "tournament = axl.Tournament(players, turns=10, repetitions=3)\n",
    "results = tournament.play()"
   ]
  },
  {
   "cell_type": "code",
   "execution_count": 2,
   "id": "e3246414-5e31-4be9-a073-3b97df0125bb",
   "metadata": {},
   "outputs": [
    {
     "name": "stdout",
     "output_type": "stream",
     "text": [
      "[Player(Rank=0, Name='Defector', Median_score=np.float64(2.6), Cooperation_rating=0.0, Wins=np.float64(3.0), Initial_C_rate=np.float64(0.0), Original_index=1, CC_rate=0.0, CD_rate=0.0, DC_rate=0.4000000000000001, DD_rate=0.6, CC_to_C_rate=0, CD_to_C_rate=0, DC_to_C_rate=0, DD_to_C_rate=0),\n",
      " Player(Rank=1, Name='Tit For Tat', Median_score=np.float64(2.3000000000000003), Cooperation_rating=0.7, Wins=np.float64(0.0), Initial_C_rate=np.float64(1.0), Original_index=2, CC_rate=0.6666666666666666, CD_rate=0.03333333333333333, DC_rate=0.0, DD_rate=0.3, CC_to_C_rate=np.float64(1.0), CD_to_C_rate=0, DC_to_C_rate=0, DD_to_C_rate=0),\n",
      " Player(Rank=2, Name='Grudger', Median_score=np.float64(2.3000000000000003), Cooperation_rating=0.7, Wins=np.float64(0.0), Initial_C_rate=np.float64(1.0), Original_index=3, CC_rate=0.6666666666666666, CD_rate=0.03333333333333333, DC_rate=0.0, DD_rate=0.3, CC_to_C_rate=np.float64(1.0), CD_to_C_rate=0, DC_to_C_rate=0, DD_to_C_rate=0),\n",
      " Player(Rank=3, Name='Cooperator', Median_score=np.float64(2.0), Cooperation_rating=1.0, Wins=np.float64(0.0), Initial_C_rate=np.float64(1.0), Original_index=0, CC_rate=0.6666666666666666, CD_rate=0.3333333333333333, DC_rate=0.0, DD_rate=0.0, CC_to_C_rate=np.float64(1.0), CD_to_C_rate=np.float64(1.0), DC_to_C_rate=0, DD_to_C_rate=0)]\n"
     ]
    }
   ],
   "source": [
    "summary = results.summarise()\n",
    "import pprint\n",
    "pprint.pprint(summary)"
   ]
  },
  {
   "cell_type": "code",
   "execution_count": 3,
   "id": "7cb2eb96-771e-4936-b355-a7b8bd308e49",
   "metadata": {},
   "outputs": [
    {
     "name": "stdout",
     "output_type": "stream",
     "text": [
      "['Rank', 'Name', 'Median_score', 'Cooperation_rating', 'Wins', 'Initial_C_rate', 'Original_index', 'CC_rate', 'CD_rate', 'DC_rate', 'DD_rate', 'CC_to_C_rate', 'CD_to_C_rate', 'DC_to_C_rate', 'DD_to_C_rate']\n",
      "['0', 'Defector', '2.6', '0.0', '3.0', '0.0', '1', '0.0', '0.0', '0.4000000000000001', '0.6', '0', '0', '0', '0']\n",
      "['1', 'Tit For Tat', '2.3000000000000003', '0.7', '0.0', '1.0', '2', '0.6666666666666666', '0.03333333333333333', '0.0', '0.3', '1.0', '0', '0', '0']\n",
      "['2', 'Grudger', '2.3000000000000003', '0.7', '0.0', '1.0', '3', '0.6666666666666666', '0.03333333333333333', '0.0', '0.3', '1.0', '0', '0', '0']\n",
      "['3', 'Cooperator', '2.0', '1.0', '0.0', '1.0', '0', '0.6666666666666666', '0.3333333333333333', '0.0', '0.0', '1.0', '1.0', '0', '0']\n"
     ]
    }
   ],
   "source": [
    "results.write_summary('summary.csv')\n",
    "import csv\n",
    "with open('summary.csv', 'r') as outfile:\n",
    "    csvreader = csv.reader(outfile)\n",
    "    for row in csvreader:\n",
    "        print(row)"
   ]
  }
 ],
 "metadata": {
  "kernelspec": {
   "display_name": "Python [conda env:csp]",
   "language": "python",
   "name": "conda-env-csp-py"
  },
  "language_info": {
   "codemirror_mode": {
    "name": "ipython",
    "version": 3
   },
   "file_extension": ".py",
   "mimetype": "text/x-python",
   "name": "python",
   "nbconvert_exporter": "python",
   "pygments_lexer": "ipython3",
   "version": "3.11.13"
  }
 },
 "nbformat": 4,
 "nbformat_minor": 5
}
